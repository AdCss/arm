{
 "cells": [
  {
   "cell_type": "markdown",
   "metadata": {},
   "source": [
    "# Chapter 7 Problem 10 (Gelman & Hill)\n",
    "\n",
    "*How many simulation draws are needed: take the model from Exercise 3.5 that predicts course evaluations from beauty and other input variables. Use `display()` to summarize the model fit. Focus on the estimate and standard error for the coefficient of beauty.*\n",
    "\n",
    "### Part A\n",
    "\n",
    "*Use `sim()` with `n.iter = 1000`. Compute the mean and standard deviations of the 1000 simulations of the coefficient of beauty, and check that these are close to the output from display.*"
   ]
  },
  {
   "cell_type": "code",
   "execution_count": 2,
   "metadata": {
    "collapsed": false
   },
   "outputs": [],
   "source": [
    "library(\"arm\")\n",
    "library(\"foreign\")"
   ]
  },
  {
   "cell_type": "code",
   "execution_count": 3,
   "metadata": {
    "collapsed": false
   },
   "outputs": [
    {
     "data": {
      "text/html": [
       "<table>\n",
       "<thead><tr><th></th><th scope=col>tenured</th><th scope=col>profnumber</th><th scope=col>minority</th><th scope=col>age</th><th scope=col>beautyf2upper</th><th scope=col>beautyflowerdiv</th><th scope=col>beautyfupperdiv</th><th scope=col>beautym2upper</th><th scope=col>beautymlowerdiv</th><th scope=col>beautymupperdiv</th><th scope=col>ellip.h</th><th scope=col>nonenglish</th><th scope=col>onecredit</th><th scope=col>percentevaluating</th><th scope=col>profevaluation</th><th scope=col>students</th><th scope=col>tenuretrack</th><th scope=col>blkandwhite</th><th scope=col>btystdvariance</th><th scope=col>btystdavepos</th><th scope=col>btystdaveneg</th></tr></thead>\n",
       "<tbody>\n",
       "\t<tr><th scope=row>1</th><td>0</td><td>1</td><td>1</td><td>36</td><td>6</td><td>5</td><td>7</td><td>6</td><td>2</td><td>4</td><td>⋯</td><td>0</td><td>0</td><td>55.81395</td><td>4.7</td><td>43</td><td>1</td><td>0</td><td>2.129806</td><td>0.201567</td><td>0</td></tr>\n",
       "\t<tr><th scope=row>2</th><td>1</td><td>2</td><td>0</td><td>59</td><td>2</td><td>4</td><td>4</td><td>3</td><td>2</td><td>3</td><td>⋯</td><td>0</td><td>0</td><td>85</td><td>4.6</td><td>20</td><td>1</td><td>0</td><td>1.386081</td><td>0</td><td>-0.826081</td></tr>\n",
       "\t<tr><th scope=row>3</th><td>1</td><td>3</td><td>0</td><td>51</td><td>5</td><td>5</td><td>2</td><td>3</td><td>2</td><td>3</td><td>⋯</td><td>0</td><td>0</td><td>100</td><td>4.1</td><td>55</td><td>1</td><td>0</td><td>2.537435</td><td>0</td><td>-0.660333</td></tr>\n",
       "\t<tr><th scope=row>4</th><td>1</td><td>4</td><td>0</td><td>40</td><td>4</td><td>2</td><td>5</td><td>2</td><td>3</td><td>3</td><td>⋯</td><td>0</td><td>0</td><td>86.95652</td><td>4.5</td><td>46</td><td>1</td><td>0</td><td>1.760577</td><td>0</td><td>-0.766312</td></tr>\n",
       "\t<tr><th scope=row>5</th><td>0</td><td>5</td><td>0</td><td>31</td><td>9</td><td>7</td><td>9</td><td>6</td><td>7</td><td>6</td><td>⋯</td><td>0</td><td>0</td><td>87.5</td><td>4.8</td><td>48</td><td>1</td><td>0</td><td>1.6931</td><td>1.42145</td><td>0</td></tr>\n",
       "\t<tr><th scope=row>6</th><td>1</td><td>6</td><td>0</td><td>62</td><td>5</td><td>6</td><td>6</td><td>6</td><td>5</td><td>5</td><td>⋯</td><td>0</td><td>0</td><td>64.53901</td><td>4.4</td><td>282</td><td>1</td><td>0</td><td>0.9447419</td><td>0.50022</td><td>0</td></tr>\n",
       "</tbody>\n",
       "</table>\n"
      ],
      "text/latex": [
       "\\begin{tabular}{r|llllllllllllllllllllllllllllllllllllllllllllllllllllllllllllllll}\n",
       "  & tenured & profnumber & minority & age & beautyf2upper & beautyflowerdiv & beautyfupperdiv & beautym2upper & beautymlowerdiv & beautymupperdiv & ellip.h & nonenglish & onecredit & percentevaluating & profevaluation & students & tenuretrack & blkandwhite & btystdvariance & btystdavepos & btystdaveneg\\\\\n",
       "\\hline\n",
       "\t1 & 0 & 1 & 1 & 36 & 6 & 5 & 7 & 6 & 2 & 4 & ⋯ & 0 & 0 & 55.81395 & 4.7 & 43 & 1 & 0 & 2.129806 & 0.201567 & 0\\\\\n",
       "\t2 & 1 & 2 & 0 & 59 & 2 & 4 & 4 & 3 & 2 & 3 & ⋯ & 0 & 0 & 85 & 4.6 & 20 & 1 & 0 & 1.386081 & 0 & -0.826081\\\\\n",
       "\t3 & 1 & 3 & 0 & 51 & 5 & 5 & 2 & 3 & 2 & 3 & ⋯ & 0 & 0 & 100 & 4.1 & 55 & 1 & 0 & 2.537435 & 0 & -0.660333\\\\\n",
       "\t4 & 1 & 4 & 0 & 40 & 4 & 2 & 5 & 2 & 3 & 3 & ⋯ & 0 & 0 & 86.95652 & 4.5 & 46 & 1 & 0 & 1.760577 & 0 & -0.766312\\\\\n",
       "\t5 & 0 & 5 & 0 & 31 & 9 & 7 & 9 & 6 & 7 & 6 & ⋯ & 0 & 0 & 87.5 & 4.8 & 48 & 1 & 0 & 1.6931 & 1.42145 & 0\\\\\n",
       "\t6 & 1 & 6 & 0 & 62 & 5 & 6 & 6 & 6 & 5 & 5 & ⋯ & 0 & 0 & 64.53901 & 4.4 & 282 & 1 & 0 & 0.9447419 & 0.50022 & 0\\\\\n",
       "\\end{tabular}\n"
      ],
      "text/plain": [
       "  tenured profnumber minority age beautyf2upper beautyflowerdiv beautyfupperdiv\n",
       "1       0          1        1  36             6               5               7\n",
       "2       1          2        0  59             2               4               4\n",
       "3       1          3        0  51             5               5               2\n",
       "4       1          4        0  40             4               2               5\n",
       "5       0          5        0  31             9               7               9\n",
       "6       1          6        0  62             5               6               6\n",
       "  beautym2upper beautymlowerdiv beautymupperdiv  btystdave  btystdf2u\n",
       "1             6               2               4  0.2015666  0.2893519\n",
       "2             3               2               3 -0.8260813 -1.6193560\n",
       "3             3               2               3 -0.6603327 -0.1878249\n",
       "4             2               3               3 -0.7663125 -0.6650018\n",
       "5             6               7               6  1.4214450  1.7208830\n",
       "6             6               5               5  0.5002196 -0.1878249\n",
       "    btystdfl   btystdfu  btystdm2u   btystdml   btystdmu class1 class2 class3\n",
       "1  0.4580018  0.8758139  0.6817153 -0.9000649 -0.1954181      0      0      1\n",
       "2 -0.0735065 -0.5770065 -1.1319040 -0.9000649 -0.6546507      0      0      0\n",
       "3  0.4580018 -1.5455530 -1.1319040 -0.9000649 -0.6546507      0      0      0\n",
       "4 -1.1365230 -0.0927330 -1.7364440 -0.3125226 -0.6546507      0      1      0\n",
       "5  1.5210190  1.8443610  0.6817153  2.0376470  0.7230470      0      0      0\n",
       "6  0.9895102  0.3915404  0.6817153  0.8625621  0.2638144      0      0      0\n",
       "  class4 class5 class6 class7 class8 class9 class10 class11 class12 class13\n",
       "1      0      0      0      0      0      0       0       0       0       0\n",
       "2      0      0      0      0      0      0       0       0       0       0\n",
       "3      1      0      0      0      0      0       0       0       0       0\n",
       "4      0      0      0      0      0      0       0       0       0       0\n",
       "5      0      0      0      0      0      0       0       0       0       0\n",
       "6      0      0      0      0      0      0       0       0       0       0\n",
       "  class14 class15 class16 class17 class18 class19 class20 class21 class22\n",
       "1       0       0       0       0       0       0       0       0       0\n",
       "2       0       0       0       0       0       0       0       0       0\n",
       "3       0       0       0       0       0       0       0       0       0\n",
       "4       0       0       0       0       0       0       0       0       0\n",
       "5       0       0       0       0       0       0       0       0       0\n",
       "6       0       0       0       0       0       0       0       0       0\n",
       "  class23 class24 class25 class26 class27 class28 class29 class30\n",
       "1       0       0       0       0       0       0       0       0\n",
       "2       0       0       0       0       0       0       0       0\n",
       "3       0       0       0       0       0       0       0       0\n",
       "4       0       0       0       0       0       0       0       0\n",
       "5       0       0       0       0       0       0       0       0\n",
       "6       0       0       0       0       0       0       0       0\n",
       "  courseevaluation didevaluation female formal fulldept lower multipleclass\n",
       "1              4.3            24      1      0        1     0             1\n",
       "2              4.5            17      0      0        1     0             0\n",
       "3              3.7            55      0      0        1     0             1\n",
       "4              4.3            40      1      0        1     0             1\n",
       "5              4.4            42      1      0        1     0             0\n",
       "6              4.2           182      0      1        1     0             0\n",
       "  nonenglish onecredit percentevaluating profevaluation students tenuretrack\n",
       "1          0         0          55.81395            4.7       43           1\n",
       "2          0         0          85.00000            4.6       20           1\n",
       "3          0         0         100.00000            4.1       55           1\n",
       "4          0         0          86.95652            4.5       46           1\n",
       "5          0         0          87.50000            4.8       48           1\n",
       "6          0         0          64.53901            4.4      282           1\n",
       "  blkandwhite btystdvariance btystdavepos btystdaveneg\n",
       "1           0      2.1298060     0.201567     0.000000\n",
       "2           0      1.3860810     0.000000    -0.826081\n",
       "3           0      2.5374350     0.000000    -0.660333\n",
       "4           0      1.7605770     0.000000    -0.766312\n",
       "5           0      1.6931000     1.421450     0.000000\n",
       "6           0      0.9447419     0.500220     0.000000"
      ]
     },
     "execution_count": 3,
     "metadata": {},
     "output_type": "execute_result"
    }
   ],
   "source": [
    "beauty <- read.csv(\"http://www.stat.columbia.edu/~gelman/arm/examples/beauty/ProfEvaltnsBeautyPublic.csv\")\n",
    "head(beauty)"
   ]
  },
  {
   "cell_type": "code",
   "execution_count": 4,
   "metadata": {
    "collapsed": false
   },
   "outputs": [
    {
     "name": "stdout",
     "output_type": "stream",
     "text": [
      "lm(formula = btystdave ~ courseevaluation * female + age + blkandwhite + \n",
      "    formal, data = beauty)\n",
      "                        coef.est coef.se\n",
      "(Intercept)             -0.27     0.37  \n",
      "courseevaluation         0.31     0.08  \n",
      "female                   1.36     0.49  \n",
      "age                     -0.03     0.00  \n",
      "blkandwhite              0.55     0.09  \n",
      "formal                   0.25     0.09  \n",
      "courseevaluation:female -0.33     0.12  \n",
      "---\n",
      "n = 463, k = 7\n",
      "residual sd = 0.70, R-Squared = 0.22\n"
     ]
    }
   ],
   "source": [
    "fit1 <- lm(btystdave ~ courseevaluation * female + age + blkandwhite + formal, data=beauty)\n",
    "display(fit1)"
   ]
  },
  {
   "cell_type": "code",
   "execution_count": 17,
   "metadata": {
    "collapsed": false
   },
   "outputs": [
    {
     "data": {
      "text/html": [
       "<table>\n",
       "<thead><tr><th></th><th scope=col>mean</th><th scope=col>sd</th></tr></thead>\n",
       "<tbody>\n",
       "\t<tr><th scope=row>X.Intercept.</th><td>-0.2650258</td><td>-0.2650258</td></tr>\n",
       "\t<tr><th scope=row>courseevaluation</th><td>0.3136296</td><td>0.3136296</td></tr>\n",
       "\t<tr><th scope=row>female</th><td>1.348112</td><td>1.348112</td></tr>\n",
       "\t<tr><th scope=row>age</th><td>-0.02563611</td><td>-0.02563611</td></tr>\n",
       "\t<tr><th scope=row>blkandwhite</th><td>0.5524656</td><td>0.5524656</td></tr>\n",
       "\t<tr><th scope=row>formal</th><td>0.251886</td><td>0.251886</td></tr>\n",
       "\t<tr><th scope=row>courseevaluation.female</th><td>-0.3287212</td><td>-0.3287212</td></tr>\n",
       "</tbody>\n",
       "</table>\n"
      ],
      "text/latex": [
       "\\begin{tabular}{r|ll}\n",
       "  & mean & sd\\\\\n",
       "\\hline\n",
       "\tX.Intercept. & -0.2650258 & -0.2650258\\\\\n",
       "\tcourseevaluation & 0.3136296 & 0.3136296\\\\\n",
       "\tfemale & 1.348112 & 1.348112\\\\\n",
       "\tage & -0.02563611 & -0.02563611\\\\\n",
       "\tblkandwhite & 0.5524656 & 0.5524656\\\\\n",
       "\tformal & 0.251886 & 0.251886\\\\\n",
       "\tcourseevaluation.female & -0.3287212 & -0.3287212\\\\\n",
       "\\end{tabular}\n"
      ],
      "text/markdown": [
       "1. -0.265025847478095\n",
       "2. 0.313629626236087\n",
       "3. 1.34811230542591\n",
       "4. -0.0256361055917203\n",
       "5. 0.552465602438857\n",
       "6. 0.251885971821399\n",
       "7. -0.328721191634971\n",
       "8. -0.265025847478095\n",
       "9. 0.313629626236087\n",
       "10. 1.34811230542591\n",
       "11. -0.0256361055917203\n",
       "12. 0.552465602438857\n",
       "13. 0.251885971821399\n",
       "14. -0.328721191634971\n",
       "\n",
       "\n"
      ],
      "text/plain": [
       "                               mean          sd\n",
       "X.Intercept.            -0.26502585 -0.26502585\n",
       "courseevaluation         0.31362963  0.31362963\n",
       "female                   1.34811231  1.34811231\n",
       "age                     -0.02563611 -0.02563611\n",
       "blkandwhite              0.55246560  0.55246560\n",
       "formal                   0.25188597  0.25188597\n",
       "courseevaluation.female -0.32872119 -0.32872119"
      ]
     },
     "execution_count": 17,
     "metadata": {},
     "output_type": "execute_result"
    }
   ],
   "source": [
    "n.sims <- 10000\n",
    "sims <- sim(fit1, n=n.sims)\n",
    "\n",
    "cbind(mean=sapply(data.frame(coef(sims)), mean), sd=sapply(data.frame(coef(sims)), mean))"
   ]
  },
  {
   "cell_type": "markdown",
   "metadata": {},
   "source": [
    "### Part B\n",
    "\n",
    "*Repeat with n.iter = 1000, n.iter = 100, and n.iter = 10. Do each of these a few times in order to get a sense of the simulation variability.*"
   ]
  },
  {
   "cell_type": "code",
   "execution_count": 18,
   "metadata": {
    "collapsed": false
   },
   "outputs": [
    {
     "data": {
      "text/html": [
       "<table>\n",
       "<thead><tr><th></th><th scope=col>mean</th><th scope=col>sd</th></tr></thead>\n",
       "<tbody>\n",
       "\t<tr><th scope=row>X.Intercept.</th><td>-0.2700718</td><td>-0.2700718</td></tr>\n",
       "\t<tr><th scope=row>courseevaluation</th><td>0.3136578</td><td>0.3136578</td></tr>\n",
       "\t<tr><th scope=row>female</th><td>1.342001</td><td>1.342001</td></tr>\n",
       "\t<tr><th scope=row>age</th><td>-0.02553954</td><td>-0.02553954</td></tr>\n",
       "\t<tr><th scope=row>blkandwhite</th><td>0.555021</td><td>0.555021</td></tr>\n",
       "\t<tr><th scope=row>formal</th><td>0.2542843</td><td>0.2542843</td></tr>\n",
       "\t<tr><th scope=row>courseevaluation.female</th><td>-0.3265195</td><td>-0.3265195</td></tr>\n",
       "</tbody>\n",
       "</table>\n"
      ],
      "text/latex": [
       "\\begin{tabular}{r|ll}\n",
       "  & mean & sd\\\\\n",
       "\\hline\n",
       "\tX.Intercept. & -0.2700718 & -0.2700718\\\\\n",
       "\tcourseevaluation & 0.3136578 & 0.3136578\\\\\n",
       "\tfemale & 1.342001 & 1.342001\\\\\n",
       "\tage & -0.02553954 & -0.02553954\\\\\n",
       "\tblkandwhite & 0.555021 & 0.555021\\\\\n",
       "\tformal & 0.2542843 & 0.2542843\\\\\n",
       "\tcourseevaluation.female & -0.3265195 & -0.3265195\\\\\n",
       "\\end{tabular}\n"
      ],
      "text/markdown": [
       "1. -0.270071786755008\n",
       "2. 0.31365775718819\n",
       "3. 1.34200145574023\n",
       "4. -0.0255395404775524\n",
       "5. 0.55502098284922\n",
       "6. 0.254284316393461\n",
       "7. -0.326519503614477\n",
       "8. -0.270071786755008\n",
       "9. 0.31365775718819\n",
       "10. 1.34200145574023\n",
       "11. -0.0255395404775524\n",
       "12. 0.55502098284922\n",
       "13. 0.254284316393461\n",
       "14. -0.326519503614477\n",
       "\n",
       "\n"
      ],
      "text/plain": [
       "                               mean          sd\n",
       "X.Intercept.            -0.27007179 -0.27007179\n",
       "courseevaluation         0.31365776  0.31365776\n",
       "female                   1.34200146  1.34200146\n",
       "age                     -0.02553954 -0.02553954\n",
       "blkandwhite              0.55502098  0.55502098\n",
       "formal                   0.25428432  0.25428432\n",
       "courseevaluation.female -0.32651950 -0.32651950"
      ]
     },
     "execution_count": 18,
     "metadata": {},
     "output_type": "execute_result"
    }
   ],
   "source": [
    "n.sims <- 1000\n",
    "sims <- sim(fit1, n=n.sims)\n",
    "\n",
    "cbind(mean=sapply(data.frame(coef(sims)), mean), sd=sapply(data.frame(coef(sims)), mean))"
   ]
  },
  {
   "cell_type": "code",
   "execution_count": 19,
   "metadata": {
    "collapsed": false
   },
   "outputs": [
    {
     "data": {
      "text/html": [
       "<table>\n",
       "<thead><tr><th></th><th scope=col>mean</th><th scope=col>sd</th></tr></thead>\n",
       "<tbody>\n",
       "\t<tr><th scope=row>X.Intercept.</th><td>-0.313089</td><td>-0.313089</td></tr>\n",
       "\t<tr><th scope=row>courseevaluation</th><td>0.322395</td><td>0.322395</td></tr>\n",
       "\t<tr><th scope=row>female</th><td>1.389706</td><td>1.389706</td></tr>\n",
       "\t<tr><th scope=row>age</th><td>-0.02553124</td><td>-0.02553124</td></tr>\n",
       "\t<tr><th scope=row>blkandwhite</th><td>0.5513881</td><td>0.5513881</td></tr>\n",
       "\t<tr><th scope=row>formal</th><td>0.2539834</td><td>0.2539834</td></tr>\n",
       "\t<tr><th scope=row>courseevaluation.female</th><td>-0.3386811</td><td>-0.3386811</td></tr>\n",
       "</tbody>\n",
       "</table>\n"
      ],
      "text/latex": [
       "\\begin{tabular}{r|ll}\n",
       "  & mean & sd\\\\\n",
       "\\hline\n",
       "\tX.Intercept. & -0.313089 & -0.313089\\\\\n",
       "\tcourseevaluation & 0.322395 & 0.322395\\\\\n",
       "\tfemale & 1.389706 & 1.389706\\\\\n",
       "\tage & -0.02553124 & -0.02553124\\\\\n",
       "\tblkandwhite & 0.5513881 & 0.5513881\\\\\n",
       "\tformal & 0.2539834 & 0.2539834\\\\\n",
       "\tcourseevaluation.female & -0.3386811 & -0.3386811\\\\\n",
       "\\end{tabular}\n"
      ],
      "text/markdown": [
       "1. -0.313089013085701\n",
       "2. 0.32239499580029\n",
       "3. 1.38970633043819\n",
       "4. -0.0255312380045984\n",
       "5. 0.551388058882385\n",
       "6. 0.25398341417775\n",
       "7. -0.338681084853709\n",
       "8. -0.313089013085701\n",
       "9. 0.32239499580029\n",
       "10. 1.38970633043819\n",
       "11. -0.0255312380045984\n",
       "12. 0.551388058882385\n",
       "13. 0.25398341417775\n",
       "14. -0.338681084853709\n",
       "\n",
       "\n"
      ],
      "text/plain": [
       "                               mean          sd\n",
       "X.Intercept.            -0.31308901 -0.31308901\n",
       "courseevaluation         0.32239500  0.32239500\n",
       "female                   1.38970633  1.38970633\n",
       "age                     -0.02553124 -0.02553124\n",
       "blkandwhite              0.55138806  0.55138806\n",
       "formal                   0.25398341  0.25398341\n",
       "courseevaluation.female -0.33868108 -0.33868108"
      ]
     },
     "execution_count": 19,
     "metadata": {},
     "output_type": "execute_result"
    }
   ],
   "source": [
    "n.sims <- 100\n",
    "sims <- sim(fit1, n=n.sims)\n",
    "\n",
    "cbind(mean=sapply(data.frame(coef(sims)), mean), sd=sapply(data.frame(coef(sims)), mean))"
   ]
  },
  {
   "cell_type": "code",
   "execution_count": 21,
   "metadata": {
    "collapsed": false
   },
   "outputs": [
    {
     "data": {
      "text/html": [
       "<table>\n",
       "<thead><tr><th></th><th scope=col>mean</th><th scope=col>sd</th></tr></thead>\n",
       "<tbody>\n",
       "\t<tr><th scope=row>X.Intercept.</th><td>-0.2677842</td><td>-0.2677842</td></tr>\n",
       "\t<tr><th scope=row>courseevaluation</th><td>0.2980505</td><td>0.2980505</td></tr>\n",
       "\t<tr><th scope=row>female</th><td>1.252062</td><td>1.252062</td></tr>\n",
       "\t<tr><th scope=row>age</th><td>-0.0240326</td><td>-0.0240326</td></tr>\n",
       "\t<tr><th scope=row>blkandwhite</th><td>0.5529911</td><td>0.5529911</td></tr>\n",
       "\t<tr><th scope=row>formal</th><td>0.2408214</td><td>0.2408214</td></tr>\n",
       "\t<tr><th scope=row>courseevaluation.female</th><td>-0.3062566</td><td>-0.3062566</td></tr>\n",
       "</tbody>\n",
       "</table>\n"
      ],
      "text/latex": [
       "\\begin{tabular}{r|ll}\n",
       "  & mean & sd\\\\\n",
       "\\hline\n",
       "\tX.Intercept. & -0.2677842 & -0.2677842\\\\\n",
       "\tcourseevaluation & 0.2980505 & 0.2980505\\\\\n",
       "\tfemale & 1.252062 & 1.252062\\\\\n",
       "\tage & -0.0240326 & -0.0240326\\\\\n",
       "\tblkandwhite & 0.5529911 & 0.5529911\\\\\n",
       "\tformal & 0.2408214 & 0.2408214\\\\\n",
       "\tcourseevaluation.female & -0.3062566 & -0.3062566\\\\\n",
       "\\end{tabular}\n"
      ],
      "text/markdown": [
       "1. -0.267784180594853\n",
       "2. 0.298050477740911\n",
       "3. 1.25206196539104\n",
       "4. -0.0240326004252493\n",
       "5. 0.552991069220359\n",
       "6. 0.240821382734219\n",
       "7. -0.306256610590715\n",
       "8. -0.267784180594853\n",
       "9. 0.298050477740911\n",
       "10. 1.25206196539104\n",
       "11. -0.0240326004252493\n",
       "12. 0.552991069220359\n",
       "13. 0.240821382734219\n",
       "14. -0.306256610590715\n",
       "\n",
       "\n"
      ],
      "text/plain": [
       "                              mean         sd\n",
       "X.Intercept.            -0.2677842 -0.2677842\n",
       "courseevaluation         0.2980505  0.2980505\n",
       "female                   1.2520620  1.2520620\n",
       "age                     -0.0240326 -0.0240326\n",
       "blkandwhite              0.5529911  0.5529911\n",
       "formal                   0.2408214  0.2408214\n",
       "courseevaluation.female -0.3062566 -0.3062566"
      ]
     },
     "execution_count": 21,
     "metadata": {},
     "output_type": "execute_result"
    }
   ],
   "source": [
    "n.sims <- 10\n",
    "sims <- sim(fit1, n=n.sims)\n",
    "\n",
    "cbind(mean=sapply(data.frame(coef(sims)), mean), sd=sapply(data.frame(coef(sims)), mean))"
   ]
  },
  {
   "cell_type": "markdown",
   "metadata": {},
   "source": [
    "### Part C\n",
    "\n",
    "*How many simulations were needed to give a good approximation to the mean and standard error for the coefficient of beauty?*"
   ]
  },
  {
   "cell_type": "markdown",
   "metadata": {},
   "source": [
    "We estimates and standard errors stabilise at around 1,000 iterations."
   ]
  }
 ],
 "metadata": {
  "kernelspec": {
   "display_name": "R",
   "language": "R",
   "name": "ir"
  },
  "language_info": {
   "codemirror_mode": "r",
   "file_extension": ".r",
   "mimetype": "text/x-r-source",
   "name": "R",
   "pygments_lexer": "r",
   "version": "3.2.2"
  }
 },
 "nbformat": 4,
 "nbformat_minor": 0
}
