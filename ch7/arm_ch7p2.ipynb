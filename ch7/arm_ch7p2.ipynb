{
 "cells": [
  {
   "cell_type": "markdown",
   "metadata": {},
   "source": [
    "# Chapter 7 Problem 2 (Gelman & Hill)\n",
    "\n",
    "*Continuous probability simulation: the logarithms of weights (in pounds) of men in the United States are approximately normally distributed with mean 5.13 and standard deviation 0.17; women with mean 4.96 and standard deviation 0.20. Suppose 10 adults selected at random step on an elevator with a capacity of 1750 pounds. What is the probability that the elevator cable breaks?*"
   ]
  },
  {
   "cell_type": "code",
   "execution_count": 53,
   "metadata": {
    "collapsed": false
   },
   "outputs": [
    {
     "data": {
      "text/html": [
       "0.063"
      ],
      "text/latex": [
       "0.063"
      ],
      "text/markdown": [
       "0.063"
      ],
      "text/plain": [
       "[1] 0.063"
      ]
     },
     "execution_count": 53,
     "metadata": {},
     "output_type": "execute_result"
    }
   ],
   "source": [
    "prop.female <- .48\n",
    "men.log.weight <- 5.13\n",
    "men.log.sd <- .17\n",
    "women.log.weight <- 4.96\n",
    "women.log.sd <- .20\n",
    "n <- 10\n",
    "n.sims <- 1000\n",
    "capacity <- 1750\n",
    "breaks <- rep(NA, n.sims)\n",
    "for (t in 1:n.sims) {\n",
    "    weights <- rep(NA, n)\n",
    "    sexes <- rbinom(n=n, size=1, prob=prop.female) # 1 if female, 0 if male\n",
    "    for (i in 1:n) {\n",
    "        weights[i] <- exp(ifelse(sexes[i]==1, rnorm(n=1, mean=women.log.weight, sd=women.log.sd), \n",
    "                          rnorm(n=1, mean=men.log.weight, sd=men.log.sd)))\n",
    "    }\n",
    "    breaks[t] <- ifelse(capacity<sum(weights), 1, 0)\n",
    "}\n",
    "sum(breaks) / n.sims"
   ]
  },
  {
   "cell_type": "markdown",
   "metadata": {},
   "source": [
    "The probability the cable will break is 6.30%."
   ]
  },
  {
   "cell_type": "code",
   "execution_count": null,
   "metadata": {
    "collapsed": true
   },
   "outputs": [],
   "source": []
  }
 ],
 "metadata": {
  "kernelspec": {
   "display_name": "R",
   "language": "R",
   "name": "ir"
  },
  "language_info": {
   "codemirror_mode": "r",
   "file_extension": ".r",
   "mimetype": "text/x-r-source",
   "name": "R",
   "pygments_lexer": "r",
   "version": "3.2.2"
  }
 },
 "nbformat": 4,
 "nbformat_minor": 0
}
